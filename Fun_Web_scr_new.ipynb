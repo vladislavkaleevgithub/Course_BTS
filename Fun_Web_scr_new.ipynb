{
 "cells": [
  {
   "cell_type": "code",
   "execution_count": 3,
   "id": "e48c286e",
   "metadata": {},
   "outputs": [],
   "source": [
    "def func(collection_name):# Enter the name of the collection, as in OpenSea (for example web('azuki'), we take the name from https://opensea.io/collection/azuki).\n",
    "\n",
    "    #NFT rank web scraping using BeautifulSoup from https://ranknft.io/\n",
    "    import pandas as pd\n",
    "    import requests\n",
    "    from bs4 import BeautifulSoup\n",
    "\n",
    "    lst = []\n",
    "    #Loop to view each NFT collection\n",
    "    for i in range(0,10000):\n",
    "        url = f'https://ranknft.io/item/{collection_name}/{i}'\n",
    "        response = requests.get(url)\n",
    "        soup = BeautifulSoup(response.text, 'lxml')\n",
    "\n",
    "        lst1=[]\n",
    "        #Loop to view each NFT element\n",
    "        for word in soup.find_all('h2'):#Search all elements with a tag h2\n",
    "                \n",
    "                word = word.get_text() #Getting elements\n",
    "  \n",
    "                lst1.append(word)#Adding elements to the list\n",
    "                \n",
    "        lst.append(lst1)\n",
    "    \n",
    "    Rank = pd.DataFrame(lst)\n",
    "    #Frame clearing\n",
    "    Rank[1]  = Rank[1] .str.replace(r\"[^\\d\\.]\", \"\", regex=True)\n",
    "    Rank[2]  = Rank[2] .str.replace(r\"[^\\d\\.]\", \"\", regex=True)\n",
    "    #Renaming columns\n",
    "    Rank.rename(columns = {0 : 'Name_collection', 1 : 'id_elements', 2 : 'Rank', 3 : 'Score', 4 : 'Items'}, inplace = True) \n",
    "    Rank['Name_collection'] = f'{collection_name}'\n",
    "    #Removing a column with the number of elements in the collection\n",
    "    Rank.drop(5, inplace=True, axis=1)\n",
    "    #Save to csv\n",
    "    Rank.to_csv(f'{collection_name}.csv')\n",
    "    # Get dataset with Collection rank, Item rarity score, Item traits\n",
    "    \n",
    "    return print('ready') "
   ]
  },
  {
   "cell_type": "code",
   "execution_count": null,
   "id": "f91725f7",
   "metadata": {},
   "outputs": [],
   "source": [
    "func('mfers')"
   ]
  },
  {
   "cell_type": "code",
   "execution_count": null,
   "id": "86c141f7",
   "metadata": {},
   "outputs": [],
   "source": []
  }
 ],
 "metadata": {
  "kernelspec": {
   "display_name": "Python 3 (ipykernel)",
   "language": "python",
   "name": "python3"
  },
  "language_info": {
   "codemirror_mode": {
    "name": "ipython",
    "version": 3
   },
   "file_extension": ".py",
   "mimetype": "text/x-python",
   "name": "python",
   "nbconvert_exporter": "python",
   "pygments_lexer": "ipython3",
   "version": "3.8.8"
  }
 },
 "nbformat": 4,
 "nbformat_minor": 5
}
